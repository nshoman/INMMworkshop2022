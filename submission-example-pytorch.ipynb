{
 "cells": [
  {
   "cell_type": "markdown",
   "id": "6cf41384",
   "metadata": {
    "papermill": {
     "duration": 0.004462,
     "end_time": "2022-07-26T20:00:01.693225",
     "exception": false,
     "start_time": "2022-07-26T20:00:01.688763",
     "status": "completed"
    },
    "tags": []
   },
   "source": [
    "# Example template for pytorch\n",
    "* Note that the data import is only one option (use of torch datasets and dataloaders)\n",
    "* Output predictions do need to be formatted properly as described later in this notebook"
   ]
  },
  {
   "cell_type": "code",
   "execution_count": 1,
   "id": "d6c35e22",
   "metadata": {
    "execution": {
     "iopub.execute_input": "2022-07-26T20:00:01.703320Z",
     "iopub.status.busy": "2022-07-26T20:00:01.702794Z",
     "iopub.status.idle": "2022-07-26T20:00:04.218359Z",
     "shell.execute_reply": "2022-07-26T20:00:04.217073Z"
    },
    "papermill": {
     "duration": 2.524148,
     "end_time": "2022-07-26T20:00:04.221304",
     "exception": false,
     "start_time": "2022-07-26T20:00:01.697156",
     "status": "completed"
    },
    "tags": []
   },
   "outputs": [],
   "source": [
    "import numpy as np\n",
    "import pandas as pd\n",
    "import torch as pt\n",
    "from torchvision import datasets, models, transforms\n",
    "from torch.utils.data import Dataset, DataLoader\n",
    "import os\n",
    "\n",
    "#paths for train annotations\n",
    "#/kaggle/input/containerid/train_annotations.csv\n",
    "\n",
    "#paths for train images\n",
    "#/kaggle/input/containerid/train/train/\n",
    "\n",
    "#path for testing images\n",
    "#/kaggle/input/containerid/test/test"
   ]
  },
  {
   "cell_type": "code",
   "execution_count": 2,
   "id": "5710cdcb",
   "metadata": {
    "execution": {
     "iopub.execute_input": "2022-07-26T20:00:04.229942Z",
     "iopub.status.busy": "2022-07-26T20:00:04.229322Z",
     "iopub.status.idle": "2022-07-26T20:00:04.240701Z",
     "shell.execute_reply": "2022-07-26T20:00:04.239491Z"
    },
    "papermill": {
     "duration": 0.018096,
     "end_time": "2022-07-26T20:00:04.242781",
     "exception": false,
     "start_time": "2022-07-26T20:00:04.224685",
     "status": "completed"
    },
    "tags": []
   },
   "outputs": [],
   "source": [
    "# Use the pytorch dataset class to structure the data\n",
    "# find more here: https://pytorch.org/tutorials/beginner/basics/data_tutorial.html\n",
    "\n",
    "class LimboDataset(Dataset):\n",
    "    def __init__(self, annotations_file, img_dir, transform=None, target_transform=None):\n",
    "        self.img_labels = pd.read_csv(annotations_file)\n",
    "        self.img_dir = img_dir\n",
    "        self.transform = transform\n",
    "        self.target_transform = target_transform\n",
    "\n",
    "    def __len__(self):\n",
    "        return len(self.img_labels)\n",
    "\n",
    "    def __getitem__(self, idx):\n",
    "        #img_path = os.path.join(self.img_dir, self.img_labels.iloc[idx, 0])\n",
    "        img_path = os.path.join(self.img_dir, self.img_labels.iloc[idx, 1])\n",
    "        image = read_image(img_path)\n",
    "        label = self.img_labels.iloc[idx, 0]\n",
    "        if self.transform:\n",
    "            image = self.transform(image)\n",
    "        if self.target_transform:\n",
    "            label = self.target_transform(label)\n",
    "        return image, label\n",
    "\n",
    "\n",
    "class LimboDatasetTest(Dataset):\n",
    "    def __init__(self, img_dir, transform=None):\n",
    "        self.img_dir = img_dir\n",
    "        self.transform = transform\n",
    "        self.files = os.listdir(img_dir)\n",
    "\n",
    "    def __len__(self):\n",
    "        return len(self.files)\n",
    "\n",
    "    def __getitem__(self, idx):\n",
    "        img_path = os.path.join(self.img_dir, self.files[idx])\n",
    "        image = read_image(img_path)\n",
    "        if self.transform:\n",
    "            image = self.transform(image)\n",
    "        ID = self.files[idx]\n",
    "        return image, ID"
   ]
  },
  {
   "cell_type": "code",
   "execution_count": 3,
   "id": "99f10bd4",
   "metadata": {
    "execution": {
     "iopub.execute_input": "2022-07-26T20:00:04.251082Z",
     "iopub.status.busy": "2022-07-26T20:00:04.250321Z",
     "iopub.status.idle": "2022-07-26T20:00:04.759317Z",
     "shell.execute_reply": "2022-07-26T20:00:04.758048Z"
    },
    "papermill": {
     "duration": 0.516223,
     "end_time": "2022-07-26T20:00:04.762120",
     "exception": false,
     "start_time": "2022-07-26T20:00:04.245897",
     "status": "completed"
    },
    "tags": []
   },
   "outputs": [
    {
     "name": "stdout",
     "output_type": "stream",
     "text": [
      "Training dataset size: 3100\n",
      "Test dataset size: 1000\n"
     ]
    }
   ],
   "source": [
    "train_dataset = LimboDataset(annotations_file='/kaggle/input/containerid/train_annotations.csv',\n",
    "                            img_dir='/kaggle/input/containerid/train/train/')\n",
    "print('Training dataset size: '+str(len(train_dataset)))\n",
    "\n",
    "test_dataset = LimboDatasetTest(img_dir='/kaggle/input/containerid/test/test/')\n",
    "print('Test dataset size: ' + str(len(test_dataset)))"
   ]
  },
  {
   "cell_type": "markdown",
   "id": "58dbe7fc",
   "metadata": {
    "papermill": {
     "duration": 0.003036,
     "end_time": "2022-07-26T20:00:04.768479",
     "exception": false,
     "start_time": "2022-07-26T20:00:04.765443",
     "status": "completed"
    },
    "tags": []
   },
   "source": [
    "# Here's where you do some ML magic"
   ]
  },
  {
   "cell_type": "markdown",
   "id": "792c3836",
   "metadata": {
    "papermill": {
     "duration": 0.002908,
     "end_time": "2022-07-26T20:00:04.774700",
     "exception": false,
     "start_time": "2022-07-26T20:00:04.771792",
     "status": "completed"
    },
    "tags": []
   },
   "source": [
    "# Submission steps\n",
    "\n",
    "### Create dummy arrays for imageID and label\n",
    "* In practice, your labels will be generated by evaluating on the test set"
   ]
  },
  {
   "cell_type": "code",
   "execution_count": 4,
   "id": "c9923321",
   "metadata": {
    "execution": {
     "iopub.execute_input": "2022-07-26T20:00:04.783239Z",
     "iopub.status.busy": "2022-07-26T20:00:04.782177Z",
     "iopub.status.idle": "2022-07-26T20:00:04.790122Z",
     "shell.execute_reply": "2022-07-26T20:00:04.788931Z"
    },
    "papermill": {
     "duration": 0.014602,
     "end_time": "2022-07-26T20:00:04.792458",
     "exception": false,
     "start_time": "2022-07-26T20:00:04.777856",
     "status": "completed"
    },
    "tags": []
   },
   "outputs": [
    {
     "name": "stdout",
     "output_type": "stream",
     "text": [
      "['image995.png' 'image996.png' 'image997.png' 'image998.png'\n",
      " 'image999.png']\n"
     ]
    }
   ],
   "source": [
    "# Create a list of imageIDs\n",
    "imageID = np.empty(1000,dtype=\"<U12\")\n",
    "for i in range(1000):\n",
    "    imageID[i] = 'image'+str(i)+'.png'\n",
    "    \n",
    "print(imageID[-5:])"
   ]
  },
  {
   "cell_type": "code",
   "execution_count": 5,
   "id": "ef1d4b18",
   "metadata": {
    "execution": {
     "iopub.execute_input": "2022-07-26T20:00:04.801435Z",
     "iopub.status.busy": "2022-07-26T20:00:04.800620Z",
     "iopub.status.idle": "2022-07-26T20:00:04.808991Z",
     "shell.execute_reply": "2022-07-26T20:00:04.807650Z"
    },
    "papermill": {
     "duration": 0.015483,
     "end_time": "2022-07-26T20:00:04.811303",
     "exception": false,
     "start_time": "2022-07-26T20:00:04.795820",
     "status": "completed"
    },
    "tags": []
   },
   "outputs": [
    {
     "name": "stdout",
     "output_type": "stream",
     "text": [
      "[0 1 1 0 1]\n"
     ]
    }
   ],
   "source": [
    "# Create a random list of labels\n",
    "imageLabel = np.random.randint(size=(1000,),low=0,high=2) #high is exclusive\n",
    "print(imageLabel[:5])"
   ]
  },
  {
   "cell_type": "markdown",
   "id": "723299cb",
   "metadata": {
    "papermill": {
     "duration": 0.003413,
     "end_time": "2022-07-26T20:00:04.818873",
     "exception": false,
     "start_time": "2022-07-26T20:00:04.815460",
     "status": "completed"
    },
    "tags": []
   },
   "source": [
    "\n",
    "# Prepare Submission File\n",
    "\n",
    "We make submissions in CSV files. Your submissions usually have two columns: an ID column and a prediction column. The ID field comes from the test data (keeping whatever name the ID field had in that data, which for this competition is 'Label'). The prediction column will use the name of the target field.\n",
    "\n",
    "We will create a DataFrame with this data, and then use the dataframe's to_csv method to write our submission file. Explicitly include the argument index=False to prevent pandas from adding another column in our csv file.\n"
   ]
  },
  {
   "cell_type": "code",
   "execution_count": 6,
   "id": "98a7dcd3",
   "metadata": {
    "execution": {
     "iopub.execute_input": "2022-07-26T20:00:04.829092Z",
     "iopub.status.busy": "2022-07-26T20:00:04.827964Z",
     "iopub.status.idle": "2022-07-26T20:00:04.838958Z",
     "shell.execute_reply": "2022-07-26T20:00:04.837795Z"
    },
    "papermill": {
     "duration": 0.018926,
     "end_time": "2022-07-26T20:00:04.841688",
     "exception": false,
     "start_time": "2022-07-26T20:00:04.822762",
     "status": "completed"
    },
    "tags": []
   },
   "outputs": [],
   "source": [
    "#prepare submission file\n",
    "my_submission = pd.DataFrame({'Label': imageLabel, 'ImageID': imageID})\n",
    "# you could use any filename. We choose submission here\n",
    "my_submission.to_csv('submission.csv', index=False)"
   ]
  },
  {
   "cell_type": "markdown",
   "id": "bab68785",
   "metadata": {
    "papermill": {
     "duration": 0.003302,
     "end_time": "2022-07-26T20:00:04.848573",
     "exception": false,
     "start_time": "2022-07-26T20:00:04.845271",
     "status": "completed"
    },
    "tags": []
   },
   "source": [
    "# Submission\n",
    "Submit by pressing submit in the right side panel under Competitions"
   ]
  },
  {
   "cell_type": "markdown",
   "id": "de9dbe58",
   "metadata": {
    "papermill": {
     "duration": 0.003362,
     "end_time": "2022-07-26T20:00:04.857144",
     "exception": false,
     "start_time": "2022-07-26T20:00:04.853782",
     "status": "completed"
    },
    "tags": []
   },
   "source": [
    "# Sharing notebook\n",
    "\n",
    "To share your notebook go to file, share, and make public. "
   ]
  },
  {
   "cell_type": "code",
   "execution_count": null,
   "id": "3635e0a1",
   "metadata": {
    "papermill": {
     "duration": 0.003079,
     "end_time": "2022-07-26T20:00:04.864451",
     "exception": false,
     "start_time": "2022-07-26T20:00:04.861372",
     "status": "completed"
    },
    "tags": []
   },
   "outputs": [],
   "source": []
  }
 ],
 "metadata": {
  "kernelspec": {
   "display_name": "Python 3",
   "language": "python",
   "name": "python3"
  },
  "language_info": {
   "codemirror_mode": {
    "name": "ipython",
    "version": 3
   },
   "file_extension": ".py",
   "mimetype": "text/x-python",
   "name": "python",
   "nbconvert_exporter": "python",
   "pygments_lexer": "ipython3",
   "version": "3.7.12"
  },
  "papermill": {
   "default_parameters": {},
   "duration": 14.681363,
   "end_time": "2022-07-26T20:00:05.792258",
   "environment_variables": {},
   "exception": null,
   "input_path": "__notebook__.ipynb",
   "output_path": "__notebook__.ipynb",
   "parameters": {},
   "start_time": "2022-07-26T19:59:51.110895",
   "version": "2.3.4"
  }
 },
 "nbformat": 4,
 "nbformat_minor": 5
}
